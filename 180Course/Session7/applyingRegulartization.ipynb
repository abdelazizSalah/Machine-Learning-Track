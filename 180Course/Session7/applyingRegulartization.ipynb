{
 "cells": [
  {
   "cell_type": "code",
   "execution_count": 146,
   "metadata": {},
   "outputs": [],
   "source": [
    "import pandas as pd\n",
    "from sklearn.preprocessing import PolynomialFeatures\n",
    "from sklearn.linear_model import  LogisticRegression"
   ]
  },
  {
   "cell_type": "code",
   "execution_count": 147,
   "metadata": {},
   "outputs": [],
   "source": [
    "df = pd.read_csv('./Data/Titanic_new.csv')"
   ]
  },
  {
   "cell_type": "code",
   "execution_count": 148,
   "metadata": {},
   "outputs": [
    {
     "data": {
      "text/html": [
       "<div>\n",
       "<style scoped>\n",
       "    .dataframe tbody tr th:only-of-type {\n",
       "        vertical-align: middle;\n",
       "    }\n",
       "\n",
       "    .dataframe tbody tr th {\n",
       "        vertical-align: top;\n",
       "    }\n",
       "\n",
       "    .dataframe thead th {\n",
       "        text-align: right;\n",
       "    }\n",
       "</style>\n",
       "<table border=\"1\" class=\"dataframe\">\n",
       "  <thead>\n",
       "    <tr style=\"text-align: right;\">\n",
       "      <th></th>\n",
       "      <th>Survived</th>\n",
       "      <th>Pclass</th>\n",
       "      <th>Sex</th>\n",
       "      <th>Age</th>\n",
       "      <th>SibSp</th>\n",
       "      <th>Parch</th>\n",
       "      <th>Fare</th>\n",
       "      <th>Embarked</th>\n",
       "    </tr>\n",
       "  </thead>\n",
       "  <tbody>\n",
       "    <tr>\n",
       "      <th>0</th>\n",
       "      <td>0</td>\n",
       "      <td>3</td>\n",
       "      <td>1</td>\n",
       "      <td>22.0</td>\n",
       "      <td>1</td>\n",
       "      <td>0</td>\n",
       "      <td>7.2500</td>\n",
       "      <td>0</td>\n",
       "    </tr>\n",
       "    <tr>\n",
       "      <th>1</th>\n",
       "      <td>1</td>\n",
       "      <td>1</td>\n",
       "      <td>0</td>\n",
       "      <td>38.0</td>\n",
       "      <td>1</td>\n",
       "      <td>0</td>\n",
       "      <td>71.2833</td>\n",
       "      <td>1</td>\n",
       "    </tr>\n",
       "    <tr>\n",
       "      <th>2</th>\n",
       "      <td>1</td>\n",
       "      <td>3</td>\n",
       "      <td>0</td>\n",
       "      <td>26.0</td>\n",
       "      <td>0</td>\n",
       "      <td>0</td>\n",
       "      <td>7.9250</td>\n",
       "      <td>0</td>\n",
       "    </tr>\n",
       "    <tr>\n",
       "      <th>3</th>\n",
       "      <td>1</td>\n",
       "      <td>1</td>\n",
       "      <td>0</td>\n",
       "      <td>35.0</td>\n",
       "      <td>1</td>\n",
       "      <td>0</td>\n",
       "      <td>53.1000</td>\n",
       "      <td>0</td>\n",
       "    </tr>\n",
       "    <tr>\n",
       "      <th>4</th>\n",
       "      <td>0</td>\n",
       "      <td>3</td>\n",
       "      <td>1</td>\n",
       "      <td>35.0</td>\n",
       "      <td>0</td>\n",
       "      <td>0</td>\n",
       "      <td>8.0500</td>\n",
       "      <td>0</td>\n",
       "    </tr>\n",
       "  </tbody>\n",
       "</table>\n",
       "</div>"
      ],
      "text/plain": [
       "   Survived  Pclass  Sex   Age  SibSp  Parch     Fare  Embarked\n",
       "0         0       3    1  22.0      1      0   7.2500         0\n",
       "1         1       1    0  38.0      1      0  71.2833         1\n",
       "2         1       3    0  26.0      0      0   7.9250         0\n",
       "3         1       1    0  35.0      1      0  53.1000         0\n",
       "4         0       3    1  35.0      0      0   8.0500         0"
      ]
     },
     "execution_count": 148,
     "metadata": {},
     "output_type": "execute_result"
    }
   ],
   "source": [
    "df.head ()"
   ]
  },
  {
   "cell_type": "code",
   "execution_count": 149,
   "metadata": {},
   "outputs": [],
   "source": [
    "y = df.Survived\n",
    "df.drop(columns=['Survived'],inplace= True)\n",
    "X = df"
   ]
  },
  {
   "cell_type": "code",
   "execution_count": 150,
   "metadata": {},
   "outputs": [
    {
     "data": {
      "text/html": [
       "<div>\n",
       "<style scoped>\n",
       "    .dataframe tbody tr th:only-of-type {\n",
       "        vertical-align: middle;\n",
       "    }\n",
       "\n",
       "    .dataframe tbody tr th {\n",
       "        vertical-align: top;\n",
       "    }\n",
       "\n",
       "    .dataframe thead th {\n",
       "        text-align: right;\n",
       "    }\n",
       "</style>\n",
       "<table border=\"1\" class=\"dataframe\">\n",
       "  <thead>\n",
       "    <tr style=\"text-align: right;\">\n",
       "      <th></th>\n",
       "      <th>Pclass</th>\n",
       "      <th>Sex</th>\n",
       "      <th>Age</th>\n",
       "      <th>SibSp</th>\n",
       "      <th>Parch</th>\n",
       "      <th>Fare</th>\n",
       "      <th>Embarked</th>\n",
       "    </tr>\n",
       "  </thead>\n",
       "  <tbody>\n",
       "    <tr>\n",
       "      <th>0</th>\n",
       "      <td>3</td>\n",
       "      <td>1</td>\n",
       "      <td>22.0</td>\n",
       "      <td>1</td>\n",
       "      <td>0</td>\n",
       "      <td>7.2500</td>\n",
       "      <td>0</td>\n",
       "    </tr>\n",
       "    <tr>\n",
       "      <th>1</th>\n",
       "      <td>1</td>\n",
       "      <td>0</td>\n",
       "      <td>38.0</td>\n",
       "      <td>1</td>\n",
       "      <td>0</td>\n",
       "      <td>71.2833</td>\n",
       "      <td>1</td>\n",
       "    </tr>\n",
       "    <tr>\n",
       "      <th>2</th>\n",
       "      <td>3</td>\n",
       "      <td>0</td>\n",
       "      <td>26.0</td>\n",
       "      <td>0</td>\n",
       "      <td>0</td>\n",
       "      <td>7.9250</td>\n",
       "      <td>0</td>\n",
       "    </tr>\n",
       "    <tr>\n",
       "      <th>3</th>\n",
       "      <td>1</td>\n",
       "      <td>0</td>\n",
       "      <td>35.0</td>\n",
       "      <td>1</td>\n",
       "      <td>0</td>\n",
       "      <td>53.1000</td>\n",
       "      <td>0</td>\n",
       "    </tr>\n",
       "    <tr>\n",
       "      <th>4</th>\n",
       "      <td>3</td>\n",
       "      <td>1</td>\n",
       "      <td>35.0</td>\n",
       "      <td>0</td>\n",
       "      <td>0</td>\n",
       "      <td>8.0500</td>\n",
       "      <td>0</td>\n",
       "    </tr>\n",
       "  </tbody>\n",
       "</table>\n",
       "</div>"
      ],
      "text/plain": [
       "   Pclass  Sex   Age  SibSp  Parch     Fare  Embarked\n",
       "0       3    1  22.0      1      0   7.2500         0\n",
       "1       1    0  38.0      1      0  71.2833         1\n",
       "2       3    0  26.0      0      0   7.9250         0\n",
       "3       1    0  35.0      1      0  53.1000         0\n",
       "4       3    1  35.0      0      0   8.0500         0"
      ]
     },
     "execution_count": 150,
     "metadata": {},
     "output_type": "execute_result"
    }
   ],
   "source": [
    "X.head ()"
   ]
  },
  {
   "cell_type": "code",
   "execution_count": 151,
   "metadata": {},
   "outputs": [],
   "source": [
    "# degree bt7dd el degree bta3 el equation el tal3a. fa lw 5letha 2 msln htb2a second degree\n",
    "poly = PolynomialFeatures(degree=4)"
   ]
  },
  {
   "attachments": {},
   "cell_type": "markdown",
   "metadata": {},
   "source": [
    "## Applying feature Scaling"
   ]
  },
  {
   "cell_type": "code",
   "execution_count": 152,
   "metadata": {},
   "outputs": [],
   "source": [
    "from sklearn.preprocessing import StandardScaler\n",
    "scaler = StandardScaler()\n",
    "X = scaler.fit_transform(X)"
   ]
  },
  {
   "attachments": {},
   "cell_type": "markdown",
   "metadata": {},
   "source": [
    "# train_test_split random_state \n",
    "* el random state da akno key by2ol lel train_test_split enha t5tar rows mo3yna\n",
    "* el test_size by7dd nesbt el test 7agmo ad a, fa lw 5letha 0.2 da m3nah 3auz 20% mn el data yb2o test wl ba2y 80% yb2o train\n",
    "* fanta lw m3ndksh random_state da by5leh y5ud el test ay 20% random, fa kol run htla2eh by5ud rows mu5tlfa.\n",
    "* lakn lw 7adedtha b 0, 1, 2, ayan kan enta bt2olo kol mara e3ml run, khud nafs el rows ba3t el test de.  "
   ]
  },
  {
   "cell_type": "code",
   "execution_count": 153,
   "metadata": {},
   "outputs": [],
   "source": [
    "from sklearn.model_selection import train_test_split\n",
    "# Xtrain, Xtest, ytrain, ytest = train_test_split(X, y, test_size=0.5, random_state=0)\n",
    "Xtrain, Xtest, ytrain, ytest = train_test_split(X, y, test_size=0.5)"
   ]
  },
  {
   "attachments": {},
   "cell_type": "markdown",
   "metadata": {},
   "source": [
    "* evaluating the data without using regularization"
   ]
  },
  {
   "cell_type": "code",
   "execution_count": 154,
   "metadata": {},
   "outputs": [
    {
     "name": "stdout",
     "output_type": "stream",
     "text": [
      "0.8051575931232091\n",
      "0.8085714285714286\n"
     ]
    }
   ],
   "source": [
    "model = LogisticRegression().fit(Xtrain, ytrain)\n",
    "\n",
    "# el score de bt2oly ana el accuracy ad a. \n",
    "print (model.score(Xtrain, ytrain))\n",
    "print (model.score(Xtest,ytest))\n",
    "\n"
   ]
  },
  {
   "attachments": {},
   "cell_type": "markdown",
   "metadata": {},
   "source": [
    "## Applying regularization\n",
    "* 3ndna factor esmo C = 1 / lambda\n",
    "* vals = A + lambda B\n",
    "* kol ma el lambda btzed kol ma el data by7slha underfitting\n",
    "* bema en el C inverse proportional m3 el lambda, fa kol ma el C btzed el overfitting byzed. \n",
    "* el C de ba2a bnsmeha hayperParameter.\n",
    "* fa da bno3od n3dl feh 34an newsl le kema terdene. \n",
    "\n",
    "\n",
    "> max_iter  de bt2ol lel model, lw lsa m3mltsh convergence b3d el max_iter, o2af 5las. "
   ]
  },
  {
   "cell_type": "code",
   "execution_count": 157,
   "metadata": {},
   "outputs": [
    {
     "name": "stdout",
     "output_type": "stream",
     "text": [
      "0.6246418338108882\n",
      "0.5542857142857143\n",
      "--------------------\n",
      "0.8051575931232091\n",
      "0.8085714285714286\n",
      "--------------------\n",
      "0.7822349570200573\n",
      "0.7628571428571429\n"
     ]
    }
   ],
   "source": [
    "# applying underfitting\n",
    "model = LogisticRegression(C = 0.0001, max_iter=10000).fit(Xtrain, ytrain)\n",
    "\n",
    "\n",
    "# el score de bt2oly ana el accuracy ad a. \n",
    "print (model.score(Xtrain, ytrain))\n",
    "print (model.score(Xtest,ytest), end = '\\n--------------------\\n')\n",
    "\n",
    "# applying overfitting\n",
    "model = LogisticRegression(C = 10000000, max_iter=10000).fit(Xtrain, ytrain)\n",
    "\n",
    "\n",
    "# el score de bt2oly ana el accuracy ad a. \n",
    "print (model.score(Xtrain, ytrain))\n",
    "print (model.score(Xtest,ytest), end = '\\n--------------------\\n')\n",
    "\n",
    "# applying good value\n",
    "model = LogisticRegression(C = 0.01, max_iter=10000).fit(Xtrain, ytrain)\n",
    "\n",
    "\n",
    "# el score de bt2oly ana el accuracy ad a. \n",
    "print (model.score(Xtrain, ytrain))\n",
    "print (model.score(Xtest,ytest))\n"
   ]
  },
  {
   "attachments": {},
   "cell_type": "markdown",
   "metadata": {},
   "source": [
    "### good question\n",
    "* emta a3rf eny keda msh overfitting aw underfitting? "
   ]
  },
  {
   "attachments": {
    "image.png": {
     "image/png": "[encoded data removed]"
    }
   },
   "cell_type": "markdown",
   "metadata": {},
   "source": [
    "## SVM\n",
    "* support vector machine\n",
    "* it is divided into two parts\n",
    "  * Liner\n",
    "  * Kernalized\n",
    "* hwa ana emta ast5dmo? \n",
    "  *  lw el data el gyalk mt2drsh te3ml separate leha linearly.\n",
    "\n",
    "--------\n",
    "## difference betweeen linear and svm linear\n",
    "![image.png](attachment:image.png)\n",
    "\n",
    "1. hwa byro7 3nd a5er point mn class 1 msln w yersm el line el fo2 da\n",
    "2. w nfs el klam lel class 2\n",
    "3. w b3den el result byb2a 2 parallel lines. \n",
    "4. fa byro7 baa yersm line fl nos benhom, l2n el hadaf bt3o aslun eno ye3ml maximization lel space ben el 2 lines. \n",
    "5. el space de esmha margin space.\n",
    "6. gowa el margin space da mfesh ay points el mfrod.\n",
    "7. el equation el mfrod tb2a baa \n",
    "8. if (y > 1), y = 1 \n",
    "9. if (y < -1), y = 0\n",
    "10. this range ]-1, 1[ is called the margin space\n",
    "11. it contains no points\n"
   ]
  },
  {
   "attachments": {},
   "cell_type": "markdown",
   "metadata": {},
   "source": [
    "## Kernelized\n",
    "* el hwa by3mlo eno byn2l el data mn domain le domain tany 34an te2dr enk te3ml classification kwys. \n",
    "* ashar kernel hya el rbf\n"
   ]
  },
  {
   "attachments": {},
   "cell_type": "markdown",
   "metadata": {},
   "source": [
    "## Using SVMs"
   ]
  },
  {
   "cell_type": "code",
   "execution_count": 161,
   "metadata": {},
   "outputs": [
    {
     "name": "stdout",
     "output_type": "stream",
     "text": [
      "0.6246418338108882\n",
      "0.5542857142857143\n",
      "--------------------\n",
      "0.9283667621776505\n",
      "0.7771428571428571\n",
      "--------------------\n",
      "0.8681948424068768\n",
      "0.82\n",
      "--------------------\n"
     ]
    }
   ],
   "source": [
    "from sklearn.svm import SVC\n",
    "# applying underfitting\n",
    "model = SVC(C = 0.0001).fit(Xtrain, ytrain)\n",
    "\n",
    "# el score de bt2oly ana el accuracy ad a. \n",
    "print (model.score(Xtrain, ytrain))\n",
    "print (model.score(Xtest,ytest), end = '\\n--------------------\\n')\n",
    "\n",
    "# trying overfitting\n",
    "model = SVC(C = 1000).fit(Xtrain, ytrain)\n",
    "\n",
    "# el score de bt2oly ana el accuracy ad a. \n",
    "print (model.score(Xtrain, ytrain))\n",
    "print (model.score(Xtest,ytest), end = '\\n--------------------\\n')\n",
    "\n",
    "# applying good value\n",
    "model = SVC(C = 10).fit(Xtrain, ytrain)\n",
    "\n",
    "# el score de bt2oly ana el accuracy ad a. \n",
    "print (model.score(Xtrain, ytrain))\n",
    "print (model.score(Xtest,ytest), end = '\\n--------------------\\n')\n"
   ]
  },
  {
   "attachments": {},
   "cell_type": "markdown",
   "metadata": {},
   "source": [
    "* kol el fat kano lazm y3tmdo 3la en el data lazm y7sla scaling 34an t7sn el accuracy, lakn el gy baa laa msh by3tmd 3la el scaling."
   ]
  },
  {
   "attachments": {
    "image.png": {
     "image/png": "[encoded data removed]"
    }
   },
   "cell_type": "markdown",
   "metadata": {},
   "source": [
    "# Trees\n",
    "![image.png](attachment:image.png)\n",
    "\n",
    "* kol fekrtha enha btmsk el data tbd2 t2dmha 3la asas feature mo3yna el awl w b3den fl leveel el t7tha t5tar feature gdeda w t2sm el data 3la asasha.\n",
    "* akbur mushkela fl trees 3moman hya el overfitting\n",
    "* fe tree lel classification wl regression"
   ]
  },
  {
   "cell_type": "code",
   "execution_count": 162,
   "metadata": {},
   "outputs": [
    {
     "data": {
      "text/plain": [
       "[Text(0.4134908536585366, 0.9722222222222222, 'x[1] <= -0.268\\ngini = 0.469\\nsamples = 349\\nvalue = [218, 131]'),\n",
       " Text(0.1524390243902439, 0.9166666666666666, 'x[0] <= 0.302\\ngini = 0.433\\nsamples = 123\\nvalue = [39, 84]'),\n",
       " Text(0.06097560975609756, 0.8611111111111112, 'x[2] <= -1.916\\ngini = 0.138\\nsamples = 67\\nvalue = [5, 62]'),\n",
       " Text(0.04878048780487805, 0.8055555555555556, 'gini = 0.0\\nsamples = 1\\nvalue = [1, 0]'),\n",
       " Text(0.07317073170731707, 0.8055555555555556, 'x[5] <= -0.158\\ngini = 0.114\\nsamples = 66\\nvalue = [4, 62]'),\n",
       " Text(0.06097560975609756, 0.75, 'x[3] <= -0.021\\ngini = 0.278\\nsamples = 24\\nvalue = [4, 20]'),\n",
       " Text(0.036585365853658534, 0.6944444444444444, 'x[2] <= -0.324\\ngini = 0.124\\nsamples = 15\\nvalue = [1, 14]'),\n",
       " Text(0.024390243902439025, 0.6388888888888888, 'x[2] <= -0.583\\ngini = 0.278\\nsamples = 6\\nvalue = [1, 5]'),\n",
       " Text(0.012195121951219513, 0.5833333333333334, 'gini = 0.0\\nsamples = 4\\nvalue = [0, 4]'),\n",
       " Text(0.036585365853658534, 0.5833333333333334, 'gini = 0.5\\nsamples = 2\\nvalue = [1, 1]'),\n",
       " Text(0.04878048780487805, 0.6388888888888888, 'gini = 0.0\\nsamples = 9\\nvalue = [0, 9]'),\n",
       " Text(0.08536585365853659, 0.6944444444444444, 'x[2] <= -0.287\\ngini = 0.444\\nsamples = 9\\nvalue = [3, 6]'),\n",
       " Text(0.07317073170731707, 0.6388888888888888, 'gini = 0.0\\nsamples = 3\\nvalue = [0, 3]'),\n",
       " Text(0.0975609756097561, 0.6388888888888888, 'x[2] <= -0.065\\ngini = 0.5\\nsamples = 6\\nvalue = [3, 3]'),\n",
       " Text(0.08536585365853659, 0.5833333333333334, 'gini = 0.0\\nsamples = 2\\nvalue = [2, 0]'),\n",
       " Text(0.10975609756097561, 0.5833333333333334, 'x[2] <= 1.046\\ngini = 0.375\\nsamples = 4\\nvalue = [1, 3]'),\n",
       " Text(0.0975609756097561, 0.5277777777777778, 'gini = 0.0\\nsamples = 2\\nvalue = [0, 2]'),\n",
       " Text(0.12195121951219512, 0.5277777777777778, 'x[5] <= -0.189\\ngini = 0.5\\nsamples = 2\\nvalue = [1, 1]'),\n",
       " Text(0.10975609756097561, 0.4722222222222222, 'gini = 0.0\\nsamples = 1\\nvalue = [0, 1]'),\n",
       " Text(0.13414634146341464, 0.4722222222222222, 'gini = 0.0\\nsamples = 1\\nvalue = [1, 0]'),\n",
       " Text(0.08536585365853659, 0.75, 'gini = 0.0\\nsamples = 42\\nvalue = [0, 42]'),\n",
       " Text(0.24390243902439024, 0.8611111111111112, 'x[2] <= 0.713\\ngini = 0.477\\nsamples = 56\\nvalue = [34, 22]'),\n",
       " Text(0.23170731707317074, 0.8055555555555556, 'x[5] <= -0.507\\ngini = 0.497\\nsamples = 48\\nvalue = [26, 22]'),\n",
       " Text(0.20121951219512196, 0.75, 'x[5] <= -0.521\\ngini = 0.245\\nsamples = 7\\nvalue = [1, 6]'),\n",
       " Text(0.18902439024390244, 0.6944444444444444, 'gini = 0.0\\nsamples = 1\\nvalue = [1, 0]'),\n",
       " Text(0.21341463414634146, 0.6944444444444444, 'gini = 0.0\\nsamples = 6\\nvalue = [0, 6]'),\n",
       " Text(0.2621951219512195, 0.75, 'x[2] <= 0.268\\ngini = 0.476\\nsamples = 41\\nvalue = [25, 16]'),\n",
       " Text(0.23780487804878048, 0.6944444444444444, 'x[5] <= -0.216\\ngini = 0.456\\nsamples = 37\\nvalue = [24, 13]'),\n",
       " Text(0.22560975609756098, 0.6388888888888888, 'x[4] <= 1.258\\ngini = 0.487\\nsamples = 31\\nvalue = [18, 13]'),\n",
       " Text(0.1951219512195122, 0.5833333333333334, 'x[2] <= -1.656\\ngini = 0.453\\nsamples = 26\\nvalue = [17, 9]'),\n",
       " Text(0.17073170731707318, 0.5277777777777778, 'x[3] <= -0.021\\ngini = 0.375\\nsamples = 4\\nvalue = [1, 3]'),\n",
       " Text(0.15853658536585366, 0.4722222222222222, 'gini = 0.0\\nsamples = 1\\nvalue = [1, 0]'),\n",
       " Text(0.18292682926829268, 0.4722222222222222, 'gini = 0.0\\nsamples = 3\\nvalue = [0, 3]'),\n",
       " Text(0.21951219512195122, 0.5277777777777778, 'x[3] <= -0.021\\ngini = 0.397\\nsamples = 22\\nvalue = [16, 6]'),\n",
       " Text(0.2073170731707317, 0.4722222222222222, 'x[2] <= -0.102\\ngini = 0.49\\nsamples = 14\\nvalue = [8, 6]'),\n",
       " Text(0.1951219512195122, 0.4166666666666667, 'x[2] <= -0.25\\ngini = 0.5\\nsamples = 12\\nvalue = [6, 6]'),\n",
       " Text(0.18292682926829268, 0.3611111111111111, 'x[2] <= -0.916\\ngini = 0.444\\nsamples = 9\\nvalue = [6, 3]'),\n",
       " Text(0.17073170731707318, 0.3055555555555556, 'gini = 0.0\\nsamples = 1\\nvalue = [0, 1]'),\n",
       " Text(0.1951219512195122, 0.3055555555555556, 'x[5] <= -0.461\\ngini = 0.375\\nsamples = 8\\nvalue = [6, 2]'),\n",
       " Text(0.18292682926829268, 0.25, 'x[5] <= -0.468\\ngini = 0.444\\nsamples = 6\\nvalue = [4, 2]'),\n",
       " Text(0.17073170731707318, 0.19444444444444445, 'x[2] <= -0.472\\ngini = 0.32\\nsamples = 5\\nvalue = [4, 1]'),\n",
       " Text(0.15853658536585366, 0.1388888888888889, 'x[5] <= -0.487\\ngini = 0.444\\nsamples = 3\\nvalue = [2, 1]'),\n",
       " Text(0.14634146341463414, 0.08333333333333333, 'x[2] <= -0.657\\ngini = 0.5\\nsamples = 2\\nvalue = [1, 1]'),\n",
       " Text(0.13414634146341464, 0.027777777777777776, 'gini = 0.0\\nsamples = 1\\nvalue = [1, 0]'),\n",
       " Text(0.15853658536585366, 0.027777777777777776, 'gini = 0.0\\nsamples = 1\\nvalue = [0, 1]'),\n",
       " Text(0.17073170731707318, 0.08333333333333333, 'gini = 0.0\\nsamples = 1\\nvalue = [1, 0]'),\n",
       " Text(0.18292682926829268, 0.1388888888888889, 'gini = 0.0\\nsamples = 2\\nvalue = [2, 0]'),\n",
       " Text(0.1951219512195122, 0.19444444444444445, 'gini = 0.0\\nsamples = 1\\nvalue = [0, 1]'),\n",
       " Text(0.2073170731707317, 0.25, 'gini = 0.0\\nsamples = 2\\nvalue = [2, 0]'),\n",
       " Text(0.2073170731707317, 0.3611111111111111, 'gini = 0.0\\nsamples = 3\\nvalue = [0, 3]'),\n",
       " Text(0.21951219512195122, 0.4166666666666667, 'gini = 0.0\\nsamples = 2\\nvalue = [2, 0]'),\n",
       " Text(0.23170731707317074, 0.4722222222222222, 'gini = 0.0\\nsamples = 8\\nvalue = [8, 0]'),\n",
       " Text(0.25609756097560976, 0.5833333333333334, 'x[4] <= 3.026\\ngini = 0.32\\nsamples = 5\\nvalue = [1, 4]'),\n",
       " Text(0.24390243902439024, 0.5277777777777778, 'gini = 0.0\\nsamples = 4\\nvalue = [0, 4]'),\n",
       " Text(0.2682926829268293, 0.5277777777777778, 'gini = 0.0\\nsamples = 1\\nvalue = [1, 0]'),\n",
       " Text(0.25, 0.6388888888888888, 'gini = 0.0\\nsamples = 6\\nvalue = [6, 0]'),\n",
       " Text(0.2865853658536585, 0.6944444444444444, 'x[5] <= -0.413\\ngini = 0.375\\nsamples = 4\\nvalue = [1, 3]'),\n",
       " Text(0.27439024390243905, 0.6388888888888888, 'gini = 0.0\\nsamples = 1\\nvalue = [1, 0]'),\n",
       " Text(0.29878048780487804, 0.6388888888888888, 'gini = 0.0\\nsamples = 3\\nvalue = [0, 3]'),\n",
       " Text(0.25609756097560976, 0.8055555555555556, 'gini = 0.0\\nsamples = 8\\nvalue = [8, 0]'),\n",
       " Text(0.6745426829268293, 0.9166666666666666, 'x[5] <= -0.379\\ngini = 0.329\\nsamples = 226\\nvalue = [179, 47]'),\n",
       " Text(0.5091463414634146, 0.8611111111111112, 'x[2] <= -1.53\\ngini = 0.196\\nsamples = 136\\nvalue = [121, 15]'),\n",
       " Text(0.4969512195121951, 0.8055555555555556, 'gini = 0.0\\nsamples = 1\\nvalue = [0, 1]'),\n",
       " Text(0.5213414634146342, 0.8055555555555556, 'x[2] <= 0.416\\ngini = 0.186\\nsamples = 135\\nvalue = [121, 14]'),\n",
       " Text(0.4573170731707317, 0.75, 'x[2] <= 0.12\\ngini = 0.215\\nsamples = 106\\nvalue = [93, 13]'),\n",
       " Text(0.3780487804878049, 0.6944444444444444, 'x[5] <= -0.506\\ngini = 0.162\\nsamples = 90\\nvalue = [82, 8]'),\n",
       " Text(0.32926829268292684, 0.6388888888888888, 'x[5] <= -0.507\\ngini = 0.298\\nsamples = 33\\nvalue = [27, 6]'),\n",
       " Text(0.3048780487804878, 0.5833333333333334, 'x[2] <= -0.694\\ngini = 0.231\\nsamples = 30\\nvalue = [26, 4]'),\n",
       " Text(0.2926829268292683, 0.5277777777777778, 'gini = 0.0\\nsamples = 8\\nvalue = [8, 0]'),\n",
       " Text(0.3170731707317073, 0.5277777777777778, 'x[5] <= -0.517\\ngini = 0.298\\nsamples = 22\\nvalue = [18, 4]'),\n",
       " Text(0.2926829268292683, 0.4722222222222222, 'x[5] <= -0.519\\ngini = 0.42\\nsamples = 10\\nvalue = [7, 3]'),\n",
       " Text(0.2804878048780488, 0.4166666666666667, 'gini = 0.0\\nsamples = 3\\nvalue = [3, 0]'),\n",
       " Text(0.3048780487804878, 0.4166666666666667, 'x[2] <= -0.324\\ngini = 0.49\\nsamples = 7\\nvalue = [4, 3]'),\n",
       " Text(0.2926829268292683, 0.3611111111111111, 'x[5] <= -0.517\\ngini = 0.48\\nsamples = 5\\nvalue = [2, 3]'),\n",
       " Text(0.2804878048780488, 0.3055555555555556, 'gini = 0.0\\nsamples = 2\\nvalue = [0, 2]'),\n",
       " Text(0.3048780487804878, 0.3055555555555556, 'x[2] <= -0.583\\ngini = 0.444\\nsamples = 3\\nvalue = [2, 1]'),\n",
       " Text(0.2926829268292683, 0.25, 'gini = 0.0\\nsamples = 1\\nvalue = [0, 1]'),\n",
       " Text(0.3170731707317073, 0.25, 'gini = 0.0\\nsamples = 2\\nvalue = [2, 0]'),\n",
       " Text(0.3170731707317073, 0.3611111111111111, 'gini = 0.0\\nsamples = 2\\nvalue = [2, 0]'),\n",
       " Text(0.34146341463414637, 0.4722222222222222, 'x[5] <= -0.507\\ngini = 0.153\\nsamples = 12\\nvalue = [11, 1]'),\n",
       " Text(0.32926829268292684, 0.4166666666666667, 'gini = 0.0\\nsamples = 9\\nvalue = [9, 0]'),\n",
       " Text(0.35365853658536583, 0.4166666666666667, 'x[2] <= -0.25\\ngini = 0.444\\nsamples = 3\\nvalue = [2, 1]'),\n",
       " Text(0.34146341463414637, 0.3611111111111111, 'gini = 0.5\\nsamples = 2\\nvalue = [1, 1]'),\n",
       " Text(0.36585365853658536, 0.3611111111111111, 'gini = 0.0\\nsamples = 1\\nvalue = [1, 0]'),\n",
       " Text(0.35365853658536583, 0.5833333333333334, 'x[2] <= -0.102\\ngini = 0.444\\nsamples = 3\\nvalue = [1, 2]'),\n",
       " Text(0.34146341463414637, 0.5277777777777778, 'gini = 0.0\\nsamples = 2\\nvalue = [0, 2]'),\n",
       " Text(0.36585365853658536, 0.5277777777777778, 'gini = 0.0\\nsamples = 1\\nvalue = [1, 0]'),\n",
       " Text(0.4268292682926829, 0.6388888888888888, 'x[2] <= 0.046\\ngini = 0.068\\nsamples = 57\\nvalue = [55, 2]'),\n",
       " Text(0.4024390243902439, 0.5833333333333334, 'x[2] <= -0.694\\ngini = 0.038\\nsamples = 52\\nvalue = [51, 1]'),\n",
       " Text(0.3902439024390244, 0.5277777777777778, 'x[2] <= -0.768\\ngini = 0.153\\nsamples = 12\\nvalue = [11, 1]'),\n",
       " Text(0.3780487804878049, 0.4722222222222222, 'gini = 0.0\\nsamples = 8\\nvalue = [8, 0]'),\n",
       " Text(0.4024390243902439, 0.4722222222222222, 'x[0] <= 0.302\\ngini = 0.375\\nsamples = 4\\nvalue = [3, 1]'),\n",
       " Text(0.3902439024390244, 0.4166666666666667, 'gini = 0.0\\nsamples = 1\\nvalue = [1, 0]'),\n",
       " Text(0.4146341463414634, 0.4166666666666667, 'x[5] <= -0.503\\ngini = 0.444\\nsamples = 3\\nvalue = [2, 1]'),\n",
       " Text(0.4024390243902439, 0.3611111111111111, 'gini = 0.0\\nsamples = 1\\nvalue = [1, 0]'),\n",
       " Text(0.4268292682926829, 0.3611111111111111, 'gini = 0.5\\nsamples = 2\\nvalue = [1, 1]'),\n",
       " Text(0.4146341463414634, 0.5277777777777778, 'gini = 0.0\\nsamples = 40\\nvalue = [40, 0]'),\n",
       " Text(0.45121951219512196, 0.5833333333333334, 'x[5] <= -0.488\\ngini = 0.32\\nsamples = 5\\nvalue = [4, 1]'),\n",
       " Text(0.43902439024390244, 0.5277777777777778, 'gini = 0.0\\nsamples = 3\\nvalue = [3, 0]'),\n",
       " Text(0.4634146341463415, 0.5277777777777778, 'x[5] <= -0.441\\ngini = 0.5\\nsamples = 2\\nvalue = [1, 1]'),\n",
       " Text(0.45121951219512196, 0.4722222222222222, 'gini = 0.0\\nsamples = 1\\nvalue = [0, 1]'),\n",
       " Text(0.47560975609756095, 0.4722222222222222, 'gini = 0.0\\nsamples = 1\\nvalue = [1, 0]'),\n",
       " Text(0.5365853658536586, 0.6944444444444444, 'x[5] <= -0.414\\ngini = 0.43\\nsamples = 16\\nvalue = [11, 5]'),\n",
       " Text(0.5121951219512195, 0.6388888888888888, 'x[2] <= 0.268\\ngini = 0.355\\nsamples = 13\\nvalue = [10, 3]'),\n",
       " Text(0.5, 0.5833333333333334, 'x[5] <= -0.504\\ngini = 0.469\\nsamples = 8\\nvalue = [5, 3]'),\n",
       " Text(0.4878048780487805, 0.5277777777777778, 'gini = 0.0\\nsamples = 2\\nvalue = [2, 0]'),\n",
       " Text(0.5121951219512195, 0.5277777777777778, 'x[5] <= -0.478\\ngini = 0.5\\nsamples = 6\\nvalue = [3, 3]'),\n",
       " Text(0.5, 0.4722222222222222, 'x[2] <= 0.194\\ngini = 0.48\\nsamples = 5\\nvalue = [2, 3]'),\n",
       " Text(0.4878048780487805, 0.4166666666666667, 'gini = 0.0\\nsamples = 1\\nvalue = [0, 1]'),\n",
       " Text(0.5121951219512195, 0.4166666666666667, 'x[5] <= -0.503\\ngini = 0.5\\nsamples = 4\\nvalue = [2, 2]'),\n",
       " Text(0.5, 0.3611111111111111, 'gini = 0.444\\nsamples = 3\\nvalue = [2, 1]'),\n",
       " Text(0.524390243902439, 0.3611111111111111, 'gini = 0.0\\nsamples = 1\\nvalue = [0, 1]'),\n",
       " Text(0.524390243902439, 0.4722222222222222, 'gini = 0.0\\nsamples = 1\\nvalue = [1, 0]'),\n",
       " Text(0.524390243902439, 0.5833333333333334, 'gini = 0.0\\nsamples = 5\\nvalue = [5, 0]'),\n",
       " Text(0.5609756097560976, 0.6388888888888888, 'x[2] <= 0.268\\ngini = 0.444\\nsamples = 3\\nvalue = [1, 2]'),\n",
       " Text(0.5487804878048781, 0.5833333333333334, 'gini = 0.0\\nsamples = 1\\nvalue = [0, 1]'),\n",
       " Text(0.573170731707317, 0.5833333333333334, 'gini = 0.5\\nsamples = 2\\nvalue = [1, 1]'),\n",
       " Text(0.5853658536585366, 0.75, 'x[5] <= -0.414\\ngini = 0.067\\nsamples = 29\\nvalue = [28, 1]'),\n",
       " Text(0.573170731707317, 0.6944444444444444, 'gini = 0.0\\nsamples = 24\\nvalue = [24, 0]'),\n",
       " Text(0.5975609756097561, 0.6944444444444444, 'x[2] <= 1.268\\ngini = 0.32\\nsamples = 5\\nvalue = [4, 1]'),\n",
       " Text(0.5853658536585366, 0.6388888888888888, 'gini = 0.5\\nsamples = 2\\nvalue = [1, 1]'),\n",
       " Text(0.6097560975609756, 0.6388888888888888, 'gini = 0.0\\nsamples = 3\\nvalue = [3, 0]'),\n",
       " Text(0.8399390243902439, 0.8611111111111112, 'x[2] <= 0.546\\ngini = 0.458\\nsamples = 90\\nvalue = [58, 32]'),\n",
       " Text(0.7164634146341463, 0.8055555555555556, 'x[0] <= -0.899\\ngini = 0.494\\nsamples = 63\\nvalue = [35, 28]'),\n",
       " Text(0.6524390243902439, 0.75, 'x[5] <= -0.117\\ngini = 0.444\\nsamples = 24\\nvalue = [8, 16]'),\n",
       " Text(0.6402439024390244, 0.6944444444444444, 'gini = 0.0\\nsamples = 5\\nvalue = [0, 5]'),\n",
       " Text(0.6646341463414634, 0.6944444444444444, 'x[2] <= -0.102\\ngini = 0.488\\nsamples = 19\\nvalue = [8, 11]'),\n",
       " Text(0.6341463414634146, 0.6388888888888888, 'x[5] <= 1.499\\ngini = 0.397\\nsamples = 11\\nvalue = [3, 8]'),\n",
       " Text(0.6097560975609756, 0.5833333333333334, 'x[2] <= -0.583\\ngini = 0.219\\nsamples = 8\\nvalue = [1, 7]'),\n",
       " Text(0.5975609756097561, 0.5277777777777778, 'x[5] <= 0.628\\ngini = 0.5\\nsamples = 2\\nvalue = [1, 1]'),\n",
       " Text(0.5853658536585366, 0.4722222222222222, 'gini = 0.0\\nsamples = 1\\nvalue = [1, 0]'),\n",
       " Text(0.6097560975609756, 0.4722222222222222, 'gini = 0.0\\nsamples = 1\\nvalue = [0, 1]'),\n",
       " Text(0.6219512195121951, 0.5277777777777778, 'gini = 0.0\\nsamples = 6\\nvalue = [0, 6]'),\n",
       " Text(0.6585365853658537, 0.5833333333333334, 'x[2] <= -1.289\\ngini = 0.444\\nsamples = 3\\nvalue = [2, 1]'),\n",
       " Text(0.6463414634146342, 0.5277777777777778, 'gini = 0.0\\nsamples = 1\\nvalue = [0, 1]'),\n",
       " Text(0.6707317073170732, 0.5277777777777778, 'gini = 0.0\\nsamples = 2\\nvalue = [2, 0]'),\n",
       " Text(0.6951219512195121, 0.6388888888888888, 'x[2] <= 0.194\\ngini = 0.469\\nsamples = 8\\nvalue = [5, 3]'),\n",
       " Text(0.6829268292682927, 0.5833333333333334, 'gini = 0.0\\nsamples = 4\\nvalue = [4, 0]'),\n",
       " Text(0.7073170731707317, 0.5833333333333334, 'x[5] <= 0.867\\ngini = 0.375\\nsamples = 4\\nvalue = [1, 3]'),\n",
       " Text(0.6951219512195121, 0.5277777777777778, 'x[2] <= 0.379\\ngini = 0.5\\nsamples = 2\\nvalue = [1, 1]'),\n",
       " Text(0.6829268292682927, 0.4722222222222222, 'gini = 0.0\\nsamples = 1\\nvalue = [0, 1]'),\n",
       " Text(0.7073170731707317, 0.4722222222222222, 'gini = 0.0\\nsamples = 1\\nvalue = [1, 0]'),\n",
       " Text(0.7195121951219512, 0.5277777777777778, 'gini = 0.0\\nsamples = 2\\nvalue = [0, 2]'),\n",
       " Text(0.7804878048780488, 0.75, 'x[5] <= -0.284\\ngini = 0.426\\nsamples = 39\\nvalue = [27, 12]'),\n",
       " Text(0.7317073170731707, 0.6944444444444444, 'x[2] <= -0.62\\ngini = 0.375\\nsamples = 8\\nvalue = [2, 6]'),\n",
       " Text(0.7195121951219512, 0.6388888888888888, 'gini = 0.0\\nsamples = 5\\nvalue = [0, 5]'),\n",
       " Text(0.7439024390243902, 0.6388888888888888, 'x[6] <= 0.474\\ngini = 0.444\\nsamples = 3\\nvalue = [2, 1]'),\n",
       " Text(0.7317073170731707, 0.5833333333333334, 'gini = 0.0\\nsamples = 2\\nvalue = [2, 0]'),\n",
       " Text(0.7560975609756098, 0.5833333333333334, 'gini = 0.0\\nsamples = 1\\nvalue = [0, 1]'),\n",
       " Text(0.8292682926829268, 0.6944444444444444, 'x[3] <= -0.021\\ngini = 0.312\\nsamples = 31\\nvalue = [25, 6]'),\n",
       " Text(0.7926829268292683, 0.6388888888888888, 'x[0] <= 0.302\\ngini = 0.5\\nsamples = 6\\nvalue = [3, 3]'),\n",
       " Text(0.7804878048780488, 0.5833333333333334, 'gini = 0.0\\nsamples = 2\\nvalue = [2, 0]'),\n",
       " Text(0.8048780487804879, 0.5833333333333334, 'x[2] <= 0.083\\ngini = 0.375\\nsamples = 4\\nvalue = [1, 3]'),\n",
       " Text(0.7926829268292683, 0.5277777777777778, 'x[2] <= -0.139\\ngini = 0.5\\nsamples = 2\\nvalue = [1, 1]'),\n",
       " Text(0.7804878048780488, 0.4722222222222222, 'gini = 0.0\\nsamples = 1\\nvalue = [0, 1]'),\n",
       " Text(0.8048780487804879, 0.4722222222222222, 'gini = 0.0\\nsamples = 1\\nvalue = [1, 0]'),\n",
       " Text(0.8170731707317073, 0.5277777777777778, 'gini = 0.0\\nsamples = 2\\nvalue = [0, 2]'),\n",
       " Text(0.8658536585365854, 0.6388888888888888, 'x[2] <= -1.879\\ngini = 0.211\\nsamples = 25\\nvalue = [22, 3]'),\n",
       " Text(0.8536585365853658, 0.5833333333333334, 'x[4] <= 1.258\\ngini = 0.5\\nsamples = 6\\nvalue = [3, 3]'),\n",
       " Text(0.8414634146341463, 0.5277777777777778, 'x[3] <= 1.582\\ngini = 0.375\\nsamples = 4\\nvalue = [3, 1]'),\n",
       " Text(0.8292682926829268, 0.4722222222222222, 'gini = 0.0\\nsamples = 1\\nvalue = [0, 1]'),\n",
       " Text(0.8536585365853658, 0.4722222222222222, 'gini = 0.0\\nsamples = 3\\nvalue = [3, 0]'),\n",
       " Text(0.8658536585365854, 0.5277777777777778, 'gini = 0.0\\nsamples = 2\\nvalue = [0, 2]'),\n",
       " Text(0.8780487804878049, 0.5833333333333334, 'gini = 0.0\\nsamples = 19\\nvalue = [19, 0]'),\n",
       " Text(0.9634146341463414, 0.8055555555555556, 'x[2] <= 1.527\\ngini = 0.252\\nsamples = 27\\nvalue = [23, 4]'),\n",
       " Text(0.9512195121951219, 0.75, 'x[5] <= 0.339\\ngini = 0.36\\nsamples = 17\\nvalue = [13, 4]'),\n",
       " Text(0.926829268292683, 0.6944444444444444, 'x[0] <= -0.899\\ngini = 0.245\\nsamples = 14\\nvalue = [12, 2]'),\n",
       " Text(0.9146341463414634, 0.6388888888888888, 'x[5] <= -0.12\\ngini = 0.408\\nsamples = 7\\nvalue = [5, 2]'),\n",
       " Text(0.9024390243902439, 0.5833333333333334, 'x[2] <= 1.083\\ngini = 0.444\\nsamples = 3\\nvalue = [1, 2]'),\n",
       " Text(0.8902439024390244, 0.5277777777777778, 'gini = 0.0\\nsamples = 1\\nvalue = [0, 1]'),\n",
       " Text(0.9146341463414634, 0.5277777777777778, 'gini = 0.5\\nsamples = 2\\nvalue = [1, 1]'),\n",
       " Text(0.926829268292683, 0.5833333333333334, 'gini = 0.0\\nsamples = 4\\nvalue = [4, 0]'),\n",
       " Text(0.9390243902439024, 0.6388888888888888, 'gini = 0.0\\nsamples = 7\\nvalue = [7, 0]'),\n",
       " Text(0.975609756097561, 0.6944444444444444, 'x[4] <= 0.08\\ngini = 0.444\\nsamples = 3\\nvalue = [1, 2]'),\n",
       " Text(0.9634146341463414, 0.6388888888888888, 'x[2] <= 1.046\\ngini = 0.5\\nsamples = 2\\nvalue = [1, 1]'),\n",
       " Text(0.9512195121951219, 0.5833333333333334, 'gini = 0.0\\nsamples = 1\\nvalue = [1, 0]'),\n",
       " Text(0.975609756097561, 0.5833333333333334, 'gini = 0.0\\nsamples = 1\\nvalue = [0, 1]'),\n",
       " Text(0.9878048780487805, 0.6388888888888888, 'gini = 0.0\\nsamples = 1\\nvalue = [0, 1]'),\n",
       " Text(0.975609756097561, 0.75, 'gini = 0.0\\nsamples = 10\\nvalue = [10, 0]')]"
      ]
     },
     "execution_count": 162,
     "metadata": {},
     "output_type": "execute_result"
    },
    {
     "data": {
      "image/png": "[encoded data removed]",
      "text/plain": [
       "<Figure size 432x288 with 1 Axes>"
      ]
     },
     "metadata": {
      "needs_background": "light"
     },
     "output_type": "display_data"
    }
   ],
   "source": [
    "from sklearn.tree import DecisionTreeClassifier, plot_tree\n",
    "\n",
    "model = DecisionTreeClassifier().fit(Xtrain, ytrain)\n",
    "\n",
    "plot_tree(model)"
   ]
  },
  {
   "attachments": {},
   "cell_type": "markdown",
   "metadata": {},
   "source": [
    "* fa el fo2 dol hwa keda 7rfyn \n",
    "* momyzatha enha feha haga esmha \n",
    "* interpratability, bm3na enk te3rf el model 5d el decision bta3o 3la anhy feature. "
   ]
  },
  {
   "cell_type": "code",
   "execution_count": 164,
   "metadata": {},
   "outputs": [
    {
     "data": {
      "text/plain": [
       "[Text(0.4053030303030303, 0.9166666666666666, 'x[1] <= -0.268\\ngini = 0.469\\nsamples = 349\\nvalue = [218, 131]'),\n",
       " Text(0.16666666666666666, 0.75, 'x[0] <= 0.302\\ngini = 0.433\\nsamples = 123\\nvalue = [39, 84]'),\n",
       " Text(0.06060606060606061, 0.5833333333333334, 'x[2] <= -1.916\\ngini = 0.138\\nsamples = 67\\nvalue = [5, 62]'),\n",
       " Text(0.030303030303030304, 0.4166666666666667, 'gini = 0.0\\nsamples = 1\\nvalue = [1, 0]'),\n",
       " Text(0.09090909090909091, 0.4166666666666667, 'x[5] <= -0.158\\ngini = 0.114\\nsamples = 66\\nvalue = [4, 62]'),\n",
       " Text(0.06060606060606061, 0.25, 'x[3] <= -0.021\\ngini = 0.278\\nsamples = 24\\nvalue = [4, 20]'),\n",
       " Text(0.030303030303030304, 0.08333333333333333, 'gini = 0.124\\nsamples = 15\\nvalue = [1, 14]'),\n",
       " Text(0.09090909090909091, 0.08333333333333333, 'gini = 0.444\\nsamples = 9\\nvalue = [3, 6]'),\n",
       " Text(0.12121212121212122, 0.25, 'gini = 0.0\\nsamples = 42\\nvalue = [0, 42]'),\n",
       " Text(0.2727272727272727, 0.5833333333333334, 'x[2] <= 0.713\\ngini = 0.477\\nsamples = 56\\nvalue = [34, 22]'),\n",
       " Text(0.24242424242424243, 0.4166666666666667, 'x[5] <= -0.507\\ngini = 0.497\\nsamples = 48\\nvalue = [26, 22]'),\n",
       " Text(0.18181818181818182, 0.25, 'x[5] <= -0.521\\ngini = 0.245\\nsamples = 7\\nvalue = [1, 6]'),\n",
       " Text(0.15151515151515152, 0.08333333333333333, 'gini = 0.0\\nsamples = 1\\nvalue = [1, 0]'),\n",
       " Text(0.21212121212121213, 0.08333333333333333, 'gini = 0.0\\nsamples = 6\\nvalue = [0, 6]'),\n",
       " Text(0.30303030303030304, 0.25, 'x[2] <= 0.268\\ngini = 0.476\\nsamples = 41\\nvalue = [25, 16]'),\n",
       " Text(0.2727272727272727, 0.08333333333333333, 'gini = 0.456\\nsamples = 37\\nvalue = [24, 13]'),\n",
       " Text(0.3333333333333333, 0.08333333333333333, 'gini = 0.375\\nsamples = 4\\nvalue = [1, 3]'),\n",
       " Text(0.30303030303030304, 0.4166666666666667, 'gini = 0.0\\nsamples = 8\\nvalue = [8, 0]'),\n",
       " Text(0.6439393939393939, 0.75, 'x[5] <= -0.379\\ngini = 0.329\\nsamples = 226\\nvalue = [179, 47]'),\n",
       " Text(0.45454545454545453, 0.5833333333333334, 'x[2] <= -1.53\\ngini = 0.196\\nsamples = 136\\nvalue = [121, 15]'),\n",
       " Text(0.42424242424242425, 0.4166666666666667, 'gini = 0.0\\nsamples = 1\\nvalue = [0, 1]'),\n",
       " Text(0.48484848484848486, 0.4166666666666667, 'x[2] <= 0.416\\ngini = 0.186\\nsamples = 135\\nvalue = [121, 14]'),\n",
       " Text(0.42424242424242425, 0.25, 'x[2] <= 0.12\\ngini = 0.215\\nsamples = 106\\nvalue = [93, 13]'),\n",
       " Text(0.3939393939393939, 0.08333333333333333, 'gini = 0.162\\nsamples = 90\\nvalue = [82, 8]'),\n",
       " Text(0.45454545454545453, 0.08333333333333333, 'gini = 0.43\\nsamples = 16\\nvalue = [11, 5]'),\n",
       " Text(0.5454545454545454, 0.25, 'x[5] <= -0.414\\ngini = 0.067\\nsamples = 29\\nvalue = [28, 1]'),\n",
       " Text(0.5151515151515151, 0.08333333333333333, 'gini = 0.0\\nsamples = 24\\nvalue = [24, 0]'),\n",
       " Text(0.5757575757575758, 0.08333333333333333, 'gini = 0.32\\nsamples = 5\\nvalue = [4, 1]'),\n",
       " Text(0.8333333333333334, 0.5833333333333334, 'x[2] <= 0.546\\ngini = 0.458\\nsamples = 90\\nvalue = [58, 32]'),\n",
       " Text(0.7272727272727273, 0.4166666666666667, 'x[0] <= -0.899\\ngini = 0.494\\nsamples = 63\\nvalue = [35, 28]'),\n",
       " Text(0.6666666666666666, 0.25, 'x[5] <= -0.117\\ngini = 0.444\\nsamples = 24\\nvalue = [8, 16]'),\n",
       " Text(0.6363636363636364, 0.08333333333333333, 'gini = 0.0\\nsamples = 5\\nvalue = [0, 5]'),\n",
       " Text(0.696969696969697, 0.08333333333333333, 'gini = 0.488\\nsamples = 19\\nvalue = [8, 11]'),\n",
       " Text(0.7878787878787878, 0.25, 'x[5] <= -0.284\\ngini = 0.426\\nsamples = 39\\nvalue = [27, 12]'),\n",
       " Text(0.7575757575757576, 0.08333333333333333, 'gini = 0.375\\nsamples = 8\\nvalue = [2, 6]'),\n",
       " Text(0.8181818181818182, 0.08333333333333333, 'gini = 0.312\\nsamples = 31\\nvalue = [25, 6]'),\n",
       " Text(0.9393939393939394, 0.4166666666666667, 'x[2] <= 1.527\\ngini = 0.252\\nsamples = 27\\nvalue = [23, 4]'),\n",
       " Text(0.9090909090909091, 0.25, 'x[5] <= 0.339\\ngini = 0.36\\nsamples = 17\\nvalue = [13, 4]'),\n",
       " Text(0.8787878787878788, 0.08333333333333333, 'gini = 0.245\\nsamples = 14\\nvalue = [12, 2]'),\n",
       " Text(0.9393939393939394, 0.08333333333333333, 'gini = 0.444\\nsamples = 3\\nvalue = [1, 2]'),\n",
       " Text(0.9696969696969697, 0.25, 'gini = 0.0\\nsamples = 10\\nvalue = [10, 0]')]"
      ]
     },
     "execution_count": 164,
     "metadata": {},
     "output_type": "execute_result"
    },
    {
     "data": {
      "image/png": "[encoded data removed]",
      "text/plain": [
       "<Figure size 432x288 with 1 Axes>"
      ]
     },
     "metadata": {
      "needs_background": "light"
     },
     "output_type": "display_data"
    }
   ],
   "source": [
    "# decresing number of splits.\n",
    "# as the number decreases the accuracy should decreases as we avoid overfitting. \n",
    "# and depend on the probability.\n",
    "model = DecisionTreeClassifier( max_depth=5).fit(Xtrain, ytrain)\n",
    "\n",
    "plot_tree(model)"
   ]
  },
  {
   "attachments": {},
   "cell_type": "markdown",
   "metadata": {},
   "source": [
    "## RandomForest \n",
    "* alak bdl ma t3tmd 3la karar tree wahda, enta btgeb kaza tree w t5lehom kolohom y3mlo judge 3lek. "
   ]
  },
  {
   "cell_type": "code",
   "execution_count": 165,
   "metadata": {},
   "outputs": [],
   "source": [
    "from sklearn.ensemble import RandomForestClassifier\n",
    "model = RandomForestClassifier().fit(Xtrain, ytrain)\n",
    "\n",
    "\n",
    "# n_estimator = number of trees, by default it is 10.\n",
    "model = RandomForestClassifier(n_estimators=15).fit(Xtrain, ytrain)\n"
   ]
  },
  {
   "attachments": {},
   "cell_type": "markdown",
   "metadata": {},
   "source": [
    "## GradientBoosingClassifier\n",
    "* de a7sn mn el randomforest w el tree, l2nha kol tree bt3mlha gdeda btb2a el mfrod bt7l mshakel el tree el ablha. "
   ]
  },
  {
   "cell_type": "code",
   "execution_count": 166,
   "metadata": {},
   "outputs": [
    {
     "name": "stdout",
     "output_type": "stream",
     "text": [
      "0.839541547277937\n"
     ]
    }
   ],
   "source": [
    "from sklearn.ensemble import GradientBoostingClassifier, RandomForestClassifier\n",
    "model = GradientBoostingClassifier(n_estimators = 15).fit(Xtrain, ytrain)\n",
    "\n",
    "print(model.score(Xtrain, ytrain))"
   ]
  }
 ],
 "metadata": {
  "kernelspec": {
   "display_name": "Python 3",
   "language": "python",
   "name": "python3"
  },
  "language_info": {
   "codemirror_mode": {
    "name": "ipython",
    "version": 3
   },
   "file_extension": ".py",
   "mimetype": "text/x-python",
   "name": "python",
   "nbconvert_exporter": "python",
   "pygments_lexer": "ipython3",
   "version": "3.9.13"
  },
  "orig_nbformat": 4
 },
 "nbformat": 4,
 "nbformat_minor": 2
}
