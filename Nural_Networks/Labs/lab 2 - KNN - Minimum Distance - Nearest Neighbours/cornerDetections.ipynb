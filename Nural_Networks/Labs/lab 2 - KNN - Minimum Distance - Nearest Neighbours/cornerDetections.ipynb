{
 "cells": [
  {
   "attachments": {},
   "cell_type": "markdown",
   "metadata": {},
   "source": [
    "# Detecting curves using convex hull method"
   ]
  },
  {
   "attachments": {},
   "cell_type": "markdown",
   "metadata": {},
   "source": [
    "## importing usful libraries"
   ]
  },
  {
   "cell_type": "code",
   "execution_count": 77,
   "metadata": {},
   "outputs": [],
   "source": [
    "import cv2\n",
    "import numpy as np\n",
    "import glob\n",
    "import matplotlib.pyplot as plt\n",
    "# this below line will run the utils.ipynb file and import all its contents\n",
    "%run ./utils.ipynb"
   ]
  },
  {
   "attachments": {},
   "cell_type": "markdown",
   "metadata": {},
   "source": [
    "## collecting the data"
   ]
  },
  {
   "cell_type": "code",
   "execution_count": 78,
   "metadata": {},
   "outputs": [
    {
     "name": "stdout",
     "output_type": "stream",
     "text": [
      "Number of images for roads:  1\n"
     ]
    }
   ],
   "source": [
    "raw_data_for_roads = [] \n",
    "for filename in sorted(glob.glob('images/roads/*.jpg')):\n",
    "    img = cv2.imread(filename)\n",
    "    raw_data_for_roads.append(img)\n",
    "print (\"Number of images for roads: \", len(raw_data_for_roads))"
   ]
  },
  {
   "attachments": {},
   "cell_type": "markdown",
   "metadata": {},
   "source": [
    "## Preparing the data"
   ]
  },
  {
   "cell_type": "code",
   "execution_count": 79,
   "metadata": {},
   "outputs": [],
   "source": [
    "clean_data_for_roads = []\n",
    "for img in raw_data_for_roads:\n",
    "    processed_img = preprocess(img)\n",
    "    clean_data_for_roads.append(processed_img)"
   ]
  },
  {
   "attachments": {},
   "cell_type": "markdown",
   "metadata": {},
   "source": [
    "## Extracting features"
   ]
  },
  {
   "cell_type": "code",
   "execution_count": 80,
   "metadata": {},
   "outputs": [],
   "source": [
    "def get_bounded_corners ():\n",
    "    area, contours = findContourArea(img)\n",
    "    area1, _ = findBoundingRectangleArea(img)\n",
    "    area2, _ = findBoundingCircleArea(img)\n",
    "    print(area, area1)"
   ]
  },
  {
   "cell_type": "code",
   "execution_count": 81,
   "metadata": {},
   "outputs": [
    {
     "name": "stdout",
     "output_type": "stream",
     "text": [
      "(array([[[  0,   0]],\n",
      "\n",
      "       [[  0, 340]],\n",
      "\n",
      "       [[736, 340]],\n",
      "\n",
      "       [[736,   0]]], dtype=int32),)\n"
     ]
    },
    {
     "ename": "IndexError",
     "evalue": "tuple index out of range",
     "output_type": "error",
     "traceback": [
      "\u001b[1;31m---------------------------------------------------------------------------\u001b[0m",
      "\u001b[1;31mIndexError\u001b[0m                                Traceback (most recent call last)",
      "\u001b[1;32mc:\\GitHub\\FacultyOfEngineeringMaterial\\ThirdYear\\SecondTerm\\Nural_Networks\\Labs\\lab 2\\cornerDetections.ipynb Cell 10\u001b[0m in \u001b[0;36m<cell line: 2>\u001b[1;34m()\u001b[0m\n\u001b[0;32m      <a href='vscode-notebook-cell:/c%3A/GitHub/FacultyOfEngineeringMaterial/ThirdYear/SecondTerm/Nural_Networks/Labs/lab%202/cornerDetections.ipynb#X11sZmlsZQ%3D%3D?line=0'>1</a>\u001b[0m training_data_for_roads \u001b[39m=\u001b[39m []\n\u001b[0;32m      <a href='vscode-notebook-cell:/c%3A/GitHub/FacultyOfEngineeringMaterial/ThirdYear/SecondTerm/Nural_Networks/Labs/lab%202/cornerDetections.ipynb#X11sZmlsZQ%3D%3D?line=1'>2</a>\u001b[0m \u001b[39mfor\u001b[39;00m road \u001b[39min\u001b[39;00m clean_data_for_roads:\n\u001b[1;32m----> <a href='vscode-notebook-cell:/c%3A/GitHub/FacultyOfEngineeringMaterial/ThirdYear/SecondTerm/Nural_Networks/Labs/lab%202/cornerDetections.ipynb#X11sZmlsZQ%3D%3D?line=2'>3</a>\u001b[0m     img_featurs \u001b[39m=\u001b[39m extract_features(road)\n\u001b[0;32m      <a href='vscode-notebook-cell:/c%3A/GitHub/FacultyOfEngineeringMaterial/ThirdYear/SecondTerm/Nural_Networks/Labs/lab%202/cornerDetections.ipynb#X11sZmlsZQ%3D%3D?line=3'>4</a>\u001b[0m     training_data_for_roads\u001b[39m.\u001b[39mappend(img_featurs)\n",
      "File \u001b[1;32m~\\AppData\\Local\\Temp\\ipykernel_6932\\4016573907.py:6\u001b[0m, in \u001b[0;36mextract_features\u001b[1;34m(img, class_number)\u001b[0m\n\u001b[0;32m      1\u001b[0m \u001b[39mdef\u001b[39;00m \u001b[39mextract_features\u001b[39m(img, class_number\u001b[39m=\u001b[39m\u001b[39mNone\u001b[39;00m):\n\u001b[0;32m      2\u001b[0m     \u001b[39m# Given an image img, extract the following features.\u001b[39;00m\n\u001b[0;32m      3\u001b[0m     \u001b[39m# 1. The ratio between the figure area and the minimum enclosing rectangle.\u001b[39;00m\n\u001b[0;32m      4\u001b[0m     \u001b[39m# 2. The ratio between the figure area and the minimum enclosing circle.\u001b[39;00m\n\u001b[0;32m      5\u001b[0m     \u001b[39m# 3. The ratio between the figure area and the minimum enclosing triangle.\u001b[39;00m\n\u001b[1;32m----> 6\u001b[0m     area, contours \u001b[39m=\u001b[39m findContourArea(img)\n\u001b[0;32m      7\u001b[0m     area1, _ \u001b[39m=\u001b[39m findBoundingRectangleArea(img, contours)\n\u001b[0;32m      8\u001b[0m     area2, _ \u001b[39m=\u001b[39m findBoundingCircleArea(img, contours)\n",
      "File \u001b[1;32m~\\AppData\\Local\\Temp\\ipykernel_6932\\459932155.py:33\u001b[0m, in \u001b[0;36mfindContourArea\u001b[1;34m(img)\u001b[0m\n\u001b[0;32m     21\u001b[0m cv2\u001b[39m.\u001b[39mimshow(\u001b[39m'\u001b[39m\u001b[39mcontours\u001b[39m\u001b[39m'\u001b[39m, img)\n\u001b[0;32m     22\u001b[0m \u001b[39m#######\u001b[39;00m\n\u001b[0;32m     23\u001b[0m \u001b[39m## the function findContours returns an array of contours and their hierarchy,\u001b[39;00m\n\u001b[0;32m     24\u001b[0m \u001b[39m## Contours is a Python list of all the contours in the image. Each individual contour is a Numpy array of (x,y) coordinates of boundary points of the object.\u001b[39;00m\n\u001b[1;32m   (...)\u001b[0m\n\u001b[0;32m     31\u001b[0m \u001b[39m# Hint: think which contour should be passed as argument to the function (which contour we should calculate its area)\u001b[39;00m\n\u001b[0;32m     32\u001b[0m \u001b[39m# Hint: the function returns a list of areas, so you should return the first element of the list.\u001b[39;00m\n\u001b[1;32m---> 33\u001b[0m area \u001b[39m=\u001b[39m cv2\u001b[39m.\u001b[39mcontourArea(contours[\u001b[39m1\u001b[39;49m])\n\u001b[0;32m     34\u001b[0m \u001b[39m# areaFromMoment = moment[\"m00\"] # this is how we can get the area from the moment\u001b[39;00m\n\u001b[0;32m     35\u001b[0m \u001b[39m# assert area == areaFromMoment \u001b[39;00m\n\u001b[0;32m     36\u001b[0m \u001b[39mreturn\u001b[39;00m area, contours\n",
      "\u001b[1;31mIndexError\u001b[0m: tuple index out of range"
     ]
    }
   ],
   "source": [
    "training_data_for_roads = []\n",
    "for road in clean_data_for_roads:\n",
    "    img_featurs = extract_features(road)\n",
    "    training_data_for_roads.append(img_featurs)"
   ]
  },
  {
   "attachments": {},
   "cell_type": "markdown",
   "metadata": {},
   "source": [
    "> when it comes to actual machine learning algorithms, it is always better to deal with np arrays."
   ]
  },
  {
   "cell_type": "code",
   "execution_count": null,
   "metadata": {},
   "outputs": [],
   "source": [
    "training_data_for_roads = np.asarray(training_data_for_roads)"
   ]
  }
 ],
 "metadata": {
  "kernelspec": {
   "display_name": "Python 3",
   "language": "python",
   "name": "python3"
  },
  "language_info": {
   "codemirror_mode": {
    "name": "ipython",
    "version": 3
   },
   "file_extension": ".py",
   "mimetype": "text/x-python",
   "name": "python",
   "nbconvert_exporter": "python",
   "pygments_lexer": "ipython3",
   "version": "3.9.13"
  },
  "orig_nbformat": 4
 },
 "nbformat": 4,
 "nbformat_minor": 2
}
