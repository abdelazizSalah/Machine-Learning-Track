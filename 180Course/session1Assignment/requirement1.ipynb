{
 "cells": [
  {
   "attachments": {},
   "cell_type": "markdown",
   "metadata": {},
   "source": [
    "# Assignment 1"
   ]
  },
  {
   "attachments": {},
   "cell_type": "markdown",
   "metadata": {},
   "source": [
    "### Task 1 "
   ]
  },
  {
   "cell_type": "code",
   "execution_count": 1,
   "metadata": {},
   "outputs": [
    {
     "name": "stdout",
     "output_type": "stream",
     "text": [
      "260\n",
      "2\n",
      "145\n",
      "C++ is a high-level, general-purpose and very popular programming language. The C++ programming language is being used in Web Development, Machine Learning applications, Computer Vision, along with all the cutting-edge technology in the software industry\n",
      "139\n",
      "c++ is a high-level, general-purpose and very popular programming language. the c++ programming language is being used in web development, machine learning applications, computer vision, along with all the cutting-edge technology in the software industry\n",
      "C++ IS A HIGH-LEVEL, GENERAL-PURPOSE AND VERY POPULAR PROGRAMMING LANGUAGE. THE C++ PROGRAMMING LANGUAGE IS BEING USED IN WEB DEVELOPMENT, MACHINE LEARNING APPLICATIONS, COMPUTER VISION, ALONG WITH ALL THE CUTTING-EDGE TECHNOLOGY IN THE SOFTWARE INDUSTRY\n",
      "\n",
      "Task1 is completed\n",
      "\n"
     ]
    }
   ],
   "source": [
    "S = \"Python is a high-level, general-purpose and very popular programming language. The Python programming language is being used in Web Development, Machine Learning applications, Computer Vision, along with all the cutting-edge technology in the software industry\"\n",
    "print(len(S))\n",
    "print(S.count(\"Python\"))\n",
    "print(S.find(\"Machine Learning\"))\n",
    "newS = S.replace(\"Python\", \"C++\")\n",
    "print(newS)\n",
    "print(newS.find(\"Machine Learning\"))\n",
    "print(newS.lower())\n",
    "print(newS.upper())\n",
    "print()\n",
    "print(\"Task1 is completed\")\n",
    "print()"
   ]
  },
  {
   "attachments": {},
   "cell_type": "markdown",
   "metadata": {},
   "source": [
    "### Task 2"
   ]
  },
  {
   "cell_type": "code",
   "execution_count": 2,
   "metadata": {},
   "outputs": [
    {
     "name": "stdout",
     "output_type": "stream",
     "text": [
      "Task2\n",
      "\n",
      "hello  WORLD\n",
      "HELLO  world\n",
      "HelloWorld\n",
      "Hello World\n",
      "\n",
      "Task2 is completed\n",
      "\n"
     ]
    }
   ],
   "source": [
    "print(\"Task2\")\n",
    "print()\n",
    "S1 = \"hello \"\n",
    "S2 = \" WORLD\"\n",
    "print(\"{}{}\".format(S1,S2))\n",
    "print(\"{}{}\".format(S1.upper(),S2.lower()))\n",
    "print(\"{}{}\".format(S1.strip().capitalize(),S2.strip().capitalize()))\n",
    "print(\"{} {}\".format(S1.strip().capitalize(),S2.strip().capitalize()))\n",
    "print()\n",
    "print(\"Task2 is completed\")\n",
    "print()"
   ]
  },
  {
   "attachments": {},
   "cell_type": "markdown",
   "metadata": {},
   "source": [
    "### Task 3\n"
   ]
  },
  {
   "cell_type": "code",
   "execution_count": 3,
   "metadata": {},
   "outputs": [
    {
     "name": "stdout",
     "output_type": "stream",
     "text": [
      "Task3\n",
      "ABC\n",
      "eat\n",
      "nana\n",
      "rot\n",
      "aaAaa\n",
      "\n",
      "Task3 is completed\n"
     ]
    }
   ],
   "source": [
    "print(\"Task3\")\n",
    "s1 = \"Apple\"\n",
    "s2 = \"Banana\"\n",
    "s3 = \"Carrot\"\n",
    "print(\"{}{}{}\".format(s1[0],s2[0],s3[0]))\n",
    "print(\"{}{}{}\".format(s1[-1],s2[-1],s3[-1]))\n",
    "print(s2[2:6])\n",
    "print(s3[3:6])\n",
    "print(\"{}{}{}\".format(s1[0].lower()*2 , s1[0], s1[0].lower()*2))\n",
    "print()\n",
    "print(\"Task3 is completed\")\n",
    "\n"
   ]
  }
 ],
 "metadata": {
  "kernelspec": {
   "display_name": "Python 3",
   "language": "python",
   "name": "python3"
  },
  "language_info": {
   "codemirror_mode": {
    "name": "ipython",
    "version": 3
   },
   "file_extension": ".py",
   "mimetype": "text/x-python",
   "name": "python",
   "nbconvert_exporter": "python",
   "pygments_lexer": "ipython3",
   "version": "3.9.13"
  },
  "orig_nbformat": 4
 },
 "nbformat": 4,
 "nbformat_minor": 2
}
